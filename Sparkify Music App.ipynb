{
 "cells": [
  {
   "cell_type": "markdown",
   "metadata": {},
   "source": [
    "# Sparkify Project\n",
    "This workspace contains a tiny subset (128MB) of the full dataset available (12GB)."
   ]
  },
  {
   "cell_type": "code",
   "execution_count": 1,
   "metadata": {},
   "outputs": [],
   "source": [
    "# import libraries\n",
    "import pyspark\n",
    "\n",
    "from pyspark.sql import SparkSession\n",
    "from pyspark.sql.functions import udf, desc, asc, lit\n",
    "from pyspark.sql.functions import sum as Fsum\n",
    "from pyspark.sql import functions as F\n",
    "from pyspark.sql.types import StringType, IntegerType\n",
    "from pyspark.sql.window import Window\n",
    "\n",
    "from pyspark.ml import Pipeline\n",
    "from pyspark.ml.classification import LogisticRegression, RandomForestClassifier, GBTClassifier, LinearSVC\n",
    "from pyspark.ml.evaluation import BinaryClassificationEvaluator, MulticlassClassificationEvaluator\n",
    "from pyspark.ml.feature import Normalizer, StringIndexer, VectorAssembler, StandardScaler\n",
    "from pyspark.ml.tuning import CrossValidator, ParamGridBuilder\n",
    "\n",
    "import datetime\n",
    "from time import time\n",
    "\n",
    "import numpy as np\n",
    "import pandas as pd\n",
    "%matplotlib inline\n",
    "import matplotlib.pyplot as plt\n",
    "import seaborn as sns"
   ]
  },
  {
   "cell_type": "raw",
   "metadata": {},
   "source": []
  },
  {
   "cell_type": "code",
   "execution_count": 2,
   "metadata": {},
   "outputs": [],
   "source": [
    "# create a Spark session\n",
    "\n",
    "spark = SparkSession \\\n",
    "    .builder \\\n",
    "    .appName(\"Sparkify\") \\\n",
    "    .getOrCreate()"
   ]
  },
  {
   "cell_type": "markdown",
   "metadata": {},
   "source": [
    "# Load and Clean Dataset\n",
    "The mini-dataset file is `mini_sparkify_event_data.json`. The dataset is Loaded and cleaned, checking for invalid or missing data - for example, records without userids or sessionids. "
   ]
  },
  {
   "cell_type": "code",
   "execution_count": 3,
   "metadata": {},
   "outputs": [
    {
     "data": {
      "text/plain": [
       "DataFrame[artist: string, auth: string, firstName: string, gender: string, itemInSession: bigint, lastName: string, length: double, level: string, location: string, method: string, page: string, registration: bigint, sessionId: bigint, song: string, status: bigint, ts: bigint, userAgent: string, userId: string]"
      ]
     },
     "execution_count": 3,
     "metadata": {},
     "output_type": "execute_result"
    }
   ],
   "source": [
    "df = spark.read.json('mini_sparkify_event_data.json')\n",
    "df.persist()"
   ]
  },
  {
   "cell_type": "code",
   "execution_count": 4,
   "metadata": {},
   "outputs": [
    {
     "data": {
      "text/plain": [
       "DataFrame[summary: string, artist: string, auth: string, firstName: string, gender: string, itemInSession: string, lastName: string, length: string, level: string, location: string, method: string, page: string, registration: string, sessionId: string, song: string, status: string, ts: string, userAgent: string, userId: string]"
      ]
     },
     "execution_count": 4,
     "metadata": {},
     "output_type": "execute_result"
    }
   ],
   "source": [
    "df.describe()"
   ]
  },
  {
   "cell_type": "code",
   "execution_count": 5,
   "metadata": {},
   "outputs": [],
   "source": [
    "# drop any records without userids or sessionids\n",
    "df = df.dropna(how = \"any\", subset = [\"userId\", \"sessionId\"])"
   ]
  },
  {
   "cell_type": "code",
   "execution_count": 6,
   "metadata": {},
   "outputs": [
    {
     "name": "stdout",
     "output_type": "stream",
     "text": [
      "+------+\n",
      "|userId|\n",
      "+------+\n",
      "|      |\n",
      "|    10|\n",
      "|   100|\n",
      "|100001|\n",
      "+------+\n",
      "only showing top 4 rows\n",
      "\n"
     ]
    }
   ],
   "source": [
    "# investigate userid column\n",
    "df.select(\"userId\").dropDuplicates().sort(\"userId\").show(4)"
   ]
  },
  {
   "cell_type": "code",
   "execution_count": 7,
   "metadata": {},
   "outputs": [],
   "source": [
    "# Removing records with invalid format of user id - an empty string\n",
    "df = df.filter(df[\"userId\"] != \"\")"
   ]
  },
  {
   "cell_type": "code",
   "execution_count": 8,
   "metadata": {},
   "outputs": [
    {
     "data": {
      "text/plain": [
       "278154"
      ]
     },
     "execution_count": 8,
     "metadata": {},
     "output_type": "execute_result"
    }
   ],
   "source": [
    "df.count()"
   ]
  },
  {
   "cell_type": "markdown",
   "metadata": {},
   "source": [
    "# Exploratory Data Analysis\n",
    "\n",
    "\n",
    "### Define Churn\n",
    "\n",
    "`Churn` column is created to use as the label for the model. `Cancellation Confirmation` events are used to define churn, which happen for both paid and free users.\n",
    "\n",
    "### Explore Data\n",
    "Exploratory data analysis is performed to observe the behavior for users who stayed vs users who churned."
   ]
  },
  {
   "cell_type": "code",
   "execution_count": 9,
   "metadata": {},
   "outputs": [
    {
     "name": "stdout",
     "output_type": "stream",
     "text": [
      "+--------------------+\n",
      "|                page|\n",
      "+--------------------+\n",
      "|               About|\n",
      "|          Add Friend|\n",
      "|     Add to Playlist|\n",
      "|              Cancel|\n",
      "|Cancellation Conf...|\n",
      "|           Downgrade|\n",
      "|               Error|\n",
      "|                Help|\n",
      "|                Home|\n",
      "|              Logout|\n",
      "|            NextSong|\n",
      "|         Roll Advert|\n",
      "|       Save Settings|\n",
      "|            Settings|\n",
      "|    Submit Downgrade|\n",
      "|      Submit Upgrade|\n",
      "|         Thumbs Down|\n",
      "|           Thumbs Up|\n",
      "|             Upgrade|\n",
      "+--------------------+\n",
      "\n"
     ]
    }
   ],
   "source": [
    "df.select(\"page\").dropDuplicates().sort(\"page\").show(30)"
   ]
  },
  {
   "cell_type": "code",
   "execution_count": 10,
   "metadata": {},
   "outputs": [],
   "source": [
    "# find churn users\n",
    "churn_users = df.filter((df.page == \"Cancellation Confirmation\")).select(\"userId\").dropDuplicates()\n",
    "churn_user_list = [user[\"userId\"] for user in churn_users.collect()]\n",
    "\n",
    "# create new dataframe with churn users only\n",
    "df_churn = df.withColumn(\"churn\", df.userId.isin(churn_user_list))"
   ]
  },
  {
   "cell_type": "code",
   "execution_count": 11,
   "metadata": {},
   "outputs": [
    {
     "name": "stdout",
     "output_type": "stream",
     "text": [
      "+-----+-----+\n",
      "|churn|count|\n",
      "+-----+-----+\n",
      "| true|   52|\n",
      "|false|  173|\n",
      "+-----+-----+\n",
      "\n"
     ]
    }
   ],
   "source": [
    "df_churn.dropDuplicates(['userId']).groupby(df_churn.churn).count().show()"
   ]
  },
  {
   "cell_type": "code",
   "execution_count": 12,
   "metadata": {},
   "outputs": [
    {
     "name": "stdout",
     "output_type": "stream",
     "text": [
      "+-----+------+-----+\n",
      "|churn|gender|count|\n",
      "+-----+------+-----+\n",
      "|false|     F|   84|\n",
      "|false|     M|   89|\n",
      "| true|     F|   20|\n",
      "| true|     M|   32|\n",
      "+-----+------+-----+\n",
      "\n"
     ]
    }
   ],
   "source": [
    "df_churn.dropDuplicates(['userId']).groupby(['churn','gender']).count().sort(\"churn\",\"gender\").show()"
   ]
  },
  {
   "cell_type": "code",
   "execution_count": 13,
   "metadata": {},
   "outputs": [],
   "source": [
    "# create function to extract hour from the timestamp\n",
    "get_hour = udf(lambda x: datetime.datetime.fromtimestamp(x / 1000.0). hour)\n",
    "\n",
    "# apply the function to the timestamp column to create a new column: hour\n",
    "df_churn = df_churn.withColumn(\"hour\", get_hour(\"ts\"))"
   ]
  },
  {
   "cell_type": "code",
   "execution_count": 14,
   "metadata": {},
   "outputs": [
    {
     "name": "stdout",
     "output_type": "stream",
     "text": [
      "+----+-----+\n",
      "|hour|count|\n",
      "+----+-----+\n",
      "|   0| 9327|\n",
      "|   1| 8895|\n",
      "|   2| 8339|\n",
      "|   3| 8359|\n",
      "|   4| 8229|\n",
      "|   5| 7979|\n",
      "|   6| 8114|\n",
      "|   7| 8119|\n",
      "|   8| 8225|\n",
      "|   9| 8359|\n",
      "|  10| 8602|\n",
      "|  11| 8653|\n",
      "|  12| 9225|\n",
      "|  13| 9479|\n",
      "|  14|10047|\n",
      "|  15|11036|\n",
      "|  16|11381|\n",
      "|  17|11568|\n",
      "|  18|11346|\n",
      "|  19|10940|\n",
      "|  20|10893|\n",
      "|  21|10823|\n",
      "|  22|10262|\n",
      "|  23| 9908|\n",
      "+----+-----+\n",
      "\n"
     ]
    }
   ],
   "source": [
    "songs_in_hour = df_churn.filter(df_churn.page == \"NextSong\").groupby([\"hour\"]).count().orderBy(df_churn.hour.cast(\"float\"))\n",
    "songs_in_hour.show(25)"
   ]
  },
  {
   "cell_type": "code",
   "execution_count": 15,
   "metadata": {},
   "outputs": [
    {
     "data": {
      "image/png": "[encoded data removed]",
      "text/plain": [
       "<Figure size 432x288 with 1 Axes>"
      ]
     },
     "metadata": {
      "needs_background": "light"
     },
     "output_type": "display_data"
    }
   ],
   "source": [
    "# Show the song listening distribution in churn users\n",
    "songs_in_hour_churn = df_churn.filter((df_churn.page == \"NextSong\") & (df_churn.churn == 1)).groupby([\"hour\"]).count().orderBy(df_churn.hour.cast(\"float\"))\n",
    "songs_in_hour_churn_pd = songs_in_hour_churn.toPandas()\n",
    "songs_in_hour_churn_pd.hour = pd.to_numeric(songs_in_hour_churn_pd.hour)\n",
    "\n",
    "plt.bar(songs_in_hour_churn_pd[\"hour\"], songs_in_hour_churn_pd[\"count\"])\n",
    "plt.xlim(-1, 24);\n",
    "plt.ylim(0, 1.2 * max(songs_in_hour_churn_pd[\"count\"]))\n",
    "plt.xlabel(\"Hour\")\n",
    "plt.ylabel(\"Songs played\");"
   ]
  },
  {
   "cell_type": "code",
   "execution_count": 16,
   "metadata": {},
   "outputs": [
    {
     "data": {
      "image/png": "[encoded data removed]",
      "text/plain": [
       "<Figure size 432x288 with 1 Axes>"
      ]
     },
     "metadata": {
      "needs_background": "light"
     },
     "output_type": "display_data"
    }
   ],
   "source": [
    "# Show the song listening distribution in non-churn users\n",
    "songs_in_hour_nonchurn = df_churn.filter((df_churn.page == \"NextSong\") & (df_churn.churn == 0)).groupby([\"hour\"]).count().orderBy(df_churn.hour.cast(\"float\"))\n",
    "songs_in_hour_nonchurn_pd = songs_in_hour_nonchurn.toPandas()\n",
    "songs_in_hour_nonchurn_pd.hour = pd.to_numeric(songs_in_hour_nonchurn_pd.hour)\n",
    "\n",
    "plt.bar(songs_in_hour_nonchurn_pd[\"hour\"], songs_in_hour_nonchurn_pd[\"count\"])\n",
    "plt.xlim(-1, 24);\n",
    "plt.ylim(0, 1.2 * max(songs_in_hour_nonchurn_pd[\"count\"]))\n",
    "plt.xlabel(\"Hour\")\n",
    "plt.ylabel(\"Songs played\");"
   ]
  },
  {
   "cell_type": "code",
   "execution_count": 17,
   "metadata": {},
   "outputs": [
    {
     "data": {
      "image/png": "[encoded data removed]",
      "text/plain": [
       "<Figure size 432x288 with 1 Axes>"
      ]
     },
     "metadata": {
      "needs_background": "light"
     },
     "output_type": "display_data"
    }
   ],
   "source": [
    "# Show the gender distribution in churn and non-churn users\n",
    "df_gender = df_churn.dropDuplicates(['userId']).groupby(['gender','churn']).count().toPandas()\n",
    "sns.barplot(x = \"churn\", y = \"count\", hue = \"gender\", data = df_gender);"
   ]
  },
  {
   "cell_type": "markdown",
   "metadata": {},
   "source": [
    "Male customers are more likely to churn than femal customers."
   ]
  },
  {
   "cell_type": "code",
   "execution_count": 18,
   "metadata": {},
   "outputs": [
    {
     "data": {
      "image/png": "[encoded data removed]",
      "text/plain": [
       "<Figure size 432x288 with 1 Axes>"
      ]
     },
     "metadata": {
      "needs_background": "light"
     },
     "output_type": "display_data"
    }
   ],
   "source": [
    "# Analyse the number of songs played per session in churn and non-churn users\n",
    "songs_played = df_churn.where('page == \"NextSong\"') \\\n",
    "                .groupby([\"churn\", \"userId\", \"sessionId\"]).count() \\\n",
    "                .groupby([\"churn\", \"userId\"]).agg({\"count\": \"avg\"}) \\\n",
    "                .toPandas()\n",
    "\n",
    "sns.barplot(x = \"churn\", y = \"avg(count)\", data = songs_played);"
   ]
  },
  {
   "cell_type": "markdown",
   "metadata": {},
   "source": [
    "Customers who have churned listened to less songs per session comparing to customers who haven't churned."
   ]
  },
  {
   "cell_type": "code",
   "execution_count": 19,
   "metadata": {},
   "outputs": [
    {
     "data": {
      "image/png": "[encoded data removed]",
      "text/plain": [
       "<Figure size 432x288 with 1 Axes>"
      ]
     },
     "metadata": {
      "needs_background": "light"
     },
     "output_type": "display_data"
    }
   ],
   "source": [
    "sessions = df_churn.select([\"userId\", \"sessionId\", \"churn\"]).dropDuplicates() \\\n",
    "            .groupby([\"churn\", \"userId\"]).count() \\\n",
    "            .toPandas()\n",
    "\n",
    "sns.boxplot(x = \"churn\", y = \"count\", data = sessions);"
   ]
  },
  {
   "cell_type": "markdown",
   "metadata": {},
   "source": [
    "Customers who have churned had on average less interaction with the app than other customers."
   ]
  },
  {
   "cell_type": "code",
   "execution_count": 20,
   "metadata": {},
   "outputs": [
    {
     "data": {
      "image/png": "[encoded data removed]",
      "text/plain": [
       "<Figure size 432x288 with 1 Axes>"
      ]
     },
     "metadata": {
      "needs_background": "light"
     },
     "output_type": "display_data"
    }
   ],
   "source": [
    "# Analyse the time since registration in churn and non-churn users\n",
    "time_since_registration = df_churn.select(\"userId\", \"registration\", \"ts\", \"churn\") \\\n",
    "                        .withColumn(\"time_registered\", (df_churn.ts - df_churn.registration)) \\\n",
    "                        .groupby(\"userId\", \"churn\") \\\n",
    "                        .agg({\"time_registered\" : \"max\"}) \\\n",
    "                        .select(\"userId\", \"churn\", (F.col(\"max(time_registered)\")/1000/3600/24).alias(\"days_registered\")) \\\n",
    "                        .toPandas()\n",
    "\n",
    "sns.boxplot(x = \"churn\", y = \"days_registered\", data = time_since_registration);"
   ]
  },
  {
   "cell_type": "markdown",
   "metadata": {},
   "source": [
    "Customers who have churned use the music app for shorter period of time comparing to customers who haven't churned."
   ]
  },
  {
   "cell_type": "code",
   "execution_count": 21,
   "metadata": {},
   "outputs": [],
   "source": [
    "# extract the state from the location\n",
    "get_state = udf(lambda x: x[-2:])\n",
    "df_churn = df_churn.withColumn(\"state\", get_state(df_churn.location))"
   ]
  },
  {
   "cell_type": "code",
   "execution_count": 22,
   "metadata": {},
   "outputs": [
    {
     "name": "stdout",
     "output_type": "stream",
     "text": [
      "+-----+-----+\n",
      "|state|count|\n",
      "+-----+-----+\n",
      "|   CA|   33|\n",
      "|   PA|   18|\n",
      "|   TX|   16|\n",
      "|   FL|   14|\n",
      "|   WI|   10|\n",
      "|   NC|    9|\n",
      "|   IL|    9|\n",
      "|   SC|    8|\n",
      "|   NH|    7|\n",
      "|   CT|    7|\n",
      "|   MD|    7|\n",
      "|   AZ|    7|\n",
      "|   AL|    6|\n",
      "|   WV|    6|\n",
      "|   WA|    6|\n",
      "|   IN|    6|\n",
      "|   MI|    5|\n",
      "|   NY|    5|\n",
      "|   GA|    4|\n",
      "|   CO|    4|\n",
      "+-----+-----+\n",
      "only showing top 20 rows\n",
      "\n"
     ]
    }
   ],
   "source": [
    "# State distribustion among the users\n",
    "df_churn.dropDuplicates(['userId']).groupby(['state']).count().orderBy(desc(\"count\")).show()"
   ]
  },
  {
   "cell_type": "markdown",
   "metadata": {},
   "source": [
    "Most of the customer base is located in California"
   ]
  },
  {
   "cell_type": "markdown",
   "metadata": {},
   "source": [
    "# Feature Engineering\n"
   ]
  },
  {
   "cell_type": "code",
   "execution_count": 23,
   "metadata": {},
   "outputs": [
    {
     "name": "stdout",
     "output_type": "stream",
     "text": [
      "+------+------+\n",
      "|userId|gender|\n",
      "+------+------+\n",
      "|    10|     0|\n",
      "|   100|     0|\n",
      "|100001|     1|\n",
      "+------+------+\n",
      "only showing top 3 rows\n",
      "\n"
     ]
    }
   ],
   "source": [
    "# Creating a feature: gender\n",
    "gender = df_churn.select(\"userId\", \"gender\").dropDuplicates() \\\n",
    "        .replace([\"M\", \"F\"], [\"0\", \"1\"], \"gender\") \\\n",
    "        .select(\"userId\", F.col(\"gender\").cast(\"int\"))\n",
    "\n",
    "# Displaying some results\n",
    "gender.sort(\"userId\").show(3)"
   ]
  },
  {
   "cell_type": "code",
   "execution_count": 24,
   "metadata": {},
   "outputs": [
    {
     "name": "stdout",
     "output_type": "stream",
     "text": [
      "+------+-------+\n",
      "|userId|artists|\n",
      "+------+-------+\n",
      "|    10|    566|\n",
      "|   100|   1706|\n",
      "|100001|    126|\n",
      "+------+-------+\n",
      "only showing top 3 rows\n",
      "\n"
     ]
    }
   ],
   "source": [
    "# Creating a feature: number of different artists listened too\n",
    "artists = df_churn.select(\"userId\",\"artist\").dropDuplicates() \\\n",
    "            .groupBy(\"userId\").count() \\\n",
    "            .withColumnRenamed(\"count\", \"artists\")\n",
    "\n",
    "# Displaying some results\n",
    "artists.sort(\"userId\").show(3)"
   ]
  },
  {
   "cell_type": "code",
   "execution_count": 25,
   "metadata": {},
   "outputs": [
    {
     "name": "stdout",
     "output_type": "stream",
     "text": [
      "+------+-----+\n",
      "|userId|songs|\n",
      "+------+-----+\n",
      "|    10|  630|\n",
      "|   100| 2303|\n",
      "|100001|  130|\n",
      "+------+-----+\n",
      "only showing top 3 rows\n",
      "\n"
     ]
    }
   ],
   "source": [
    "# Creating a feature: number of different songs listened too\n",
    "songs = df_churn.select(\"userId\",\"song\").dropDuplicates() \\\n",
    "        .groupBy(\"userId\").count() \\\n",
    "        .withColumnRenamed(\"count\", \"songs\")\n",
    "\n",
    "# Displaying some results\n",
    "songs.sort(\"userId\").show(3)"
   ]
  },
  {
   "cell_type": "code",
   "execution_count": 26,
   "metadata": {},
   "outputs": [
    {
     "name": "stdout",
     "output_type": "stream",
     "text": [
      "+------+---+\n",
      "|userId| CA|\n",
      "+------+---+\n",
      "|    73|  0|\n",
      "|200004|  0|\n",
      "|300020|  0|\n",
      "|   121|  1|\n",
      "+------+---+\n",
      "only showing top 4 rows\n",
      "\n"
     ]
    }
   ],
   "source": [
    "# Creating a feature: user located in California\n",
    "states = df_churn.select(\"userId\",\"state\").dropDuplicates() \\\n",
    "        .withColumn(\"CA\", F.when(F.col(\"state\") == 'CA', 1).otherwise(0)) \\\n",
    "        .select(\"userId\", \"CA\")\n",
    "\n",
    "# Displaying some results\n",
    "states.show(4)"
   ]
  },
  {
   "cell_type": "code",
   "execution_count": 27,
   "metadata": {},
   "outputs": [
    {
     "name": "stdout",
     "output_type": "stream",
     "text": [
      "+------+------------------+\n",
      "|userId|              days|\n",
      "+------+------------------+\n",
      "|    10| 51.76265046296297|\n",
      "|   100| 64.87377314814815|\n",
      "|100001| 44.80021990740741|\n",
      "|100002|160.47207175925925|\n",
      "|100003|22.748113425925926|\n",
      "+------+------------------+\n",
      "only showing top 5 rows\n",
      "\n"
     ]
    }
   ],
   "source": [
    "# Creating a feature: days since registration until last user activity\n",
    "days = df_churn.select(\"userId\", \"registration\", \"ts\", \"churn\") \\\n",
    "        .withColumn(\"days\", (df_churn.ts - df_churn.registration)) \\\n",
    "        .groupby(\"userId\", \"churn\") \\\n",
    "        .agg({\"days\" : \"max\"}) \\\n",
    "        .select(\"userId\", (F.col(\"max(days)\")/1000/3600/24).alias(\"days\"))\n",
    "        \n",
    "\n",
    "days.sort(\"userId\").show(5)"
   ]
  },
  {
   "cell_type": "code",
   "execution_count": 28,
   "metadata": {},
   "outputs": [
    {
     "name": "stdout",
     "output_type": "stream",
     "text": [
      "+------+----+\n",
      "|userId|paid|\n",
      "+------+----+\n",
      "|100010|   0|\n",
      "|200002|   1|\n",
      "|   125|   0|\n",
      "|   124|   1|\n",
      "+------+----+\n",
      "only showing top 4 rows\n",
      "\n"
     ]
    }
   ],
   "source": [
    "# Creating a feature: user has a paid account\n",
    "levels = df_churn.select(\"userId\", \"level\", \"ts\")\n",
    "\n",
    "# Grouping data and extracting only the most recent observation based on ts column\n",
    "levels = levels.withColumn(\"row_number\", \n",
    "                           F.row_number().over(Window.partitionBy(levels.userId).orderBy(desc(\"ts\")))).filter(F.col(\"row_number\") == 1) \\\n",
    "        .withColumn(\"paid\", F.when(F.col(\"level\") == 'paid', 1).otherwise(0)) \\\n",
    "        .select(\"userId\", \"paid\")\n",
    "\n",
    "# Displaying some results\n",
    "levels.show(4)"
   ]
  },
  {
   "cell_type": "code",
   "execution_count": 29,
   "metadata": {},
   "outputs": [
    {
     "name": "stdout",
     "output_type": "stream",
     "text": [
      "+------+-----------+\n",
      "|userId|thumbs_down|\n",
      "+------+-----------+\n",
      "|100010|          5|\n",
      "|200002|          6|\n",
      "|   125|          0|\n",
      "|    51|         21|\n",
      "|   124|         41|\n",
      "+------+-----------+\n",
      "only showing top 5 rows\n",
      "\n"
     ]
    }
   ],
   "source": [
    "# Creating a feature: number of \"Thumbs Down\" \n",
    "thumbs_down = df_churn.select(\"userId\", \"page\") \\\n",
    "            .withColumn(\"thumbs_down\", F.when(F.col(\"page\") == 'Thumbs Down', 1).otherwise(0)) \\\n",
    "            .groupby(\"userId\").sum(\"thumbs_down\") \\\n",
    "            .withColumnRenamed(\"sum(thumbs_down)\", \"thumbs_down\")\n",
    "\n",
    "thumbs_down.show(5)"
   ]
  },
  {
   "cell_type": "code",
   "execution_count": 30,
   "metadata": {},
   "outputs": [
    {
     "name": "stdout",
     "output_type": "stream",
     "text": [
      "+------+---------+\n",
      "|userId|thumbs_up|\n",
      "+------+---------+\n",
      "|100010|       17|\n",
      "|200002|       21|\n",
      "|   125|        0|\n",
      "|    51|      100|\n",
      "|   124|      171|\n",
      "+------+---------+\n",
      "only showing top 5 rows\n",
      "\n"
     ]
    }
   ],
   "source": [
    "# Creating a feature: number of \"Thumbs Up\" \n",
    "thumbs_up = df_churn.select(\"userId\", \"page\") \\\n",
    "            .withColumn(\"thumbs_up\", F.when(F.col(\"page\") == 'Thumbs Up', 1).otherwise(0)) \\\n",
    "            .groupby(\"userId\").sum(\"thumbs_up\") \\\n",
    "            .withColumnRenamed(\"sum(thumbs_up)\", \"thumbs_up\")\n",
    "\n",
    "thumbs_up.show(5)"
   ]
  },
  {
   "cell_type": "code",
   "execution_count": 31,
   "metadata": {},
   "outputs": [
    {
     "name": "stdout",
     "output_type": "stream",
     "text": [
      "+------+-------+\n",
      "|userId|friends|\n",
      "+------+-------+\n",
      "|100010|      4|\n",
      "|200002|      4|\n",
      "|   125|      0|\n",
      "|    51|     28|\n",
      "|   124|     74|\n",
      "+------+-------+\n",
      "only showing top 5 rows\n",
      "\n"
     ]
    }
   ],
   "source": [
    "# Creating a feature: number of friends added\n",
    "friends = df_churn.select(\"userId\", \"page\") \\\n",
    "            .withColumn(\"friends\", F.when(F.col(\"page\") == 'Add Friend', 1).otherwise(0)) \\\n",
    "            .groupby(\"userId\").sum(\"friends\").withColumnRenamed(\"sum(friends)\", \"friends\")\n",
    "\n",
    "friends.show(5)"
   ]
  },
  {
   "cell_type": "code",
   "execution_count": 32,
   "metadata": {},
   "outputs": [
    {
     "name": "stdout",
     "output_type": "stream",
     "text": [
      "+------+--------+\n",
      "|userId|playlist|\n",
      "+------+--------+\n",
      "|100010|       7|\n",
      "|200002|       8|\n",
      "|   125|       0|\n",
      "|    51|      52|\n",
      "|   124|     118|\n",
      "+------+--------+\n",
      "only showing top 5 rows\n",
      "\n"
     ]
    }
   ],
   "source": [
    "# Creating a feature: number of songs in the playlist added\n",
    "playlist = df_churn.select(\"userId\", \"page\") \\\n",
    "    .withColumn(\"playlist\", F.when(F.col(\"page\") == 'Add to Playlist', 1).otherwise(0)) \\\n",
    "    .groupby(\"userId\").sum(\"playlist\").withColumnRenamed(\"sum(playlist)\", \"playlist\")\n",
    "\n",
    "playlist.show(5)"
   ]
  },
  {
   "cell_type": "code",
   "execution_count": 33,
   "metadata": {},
   "outputs": [
    {
     "name": "stdout",
     "output_type": "stream",
     "text": [
      "+------+------------------+\n",
      "|userId|     listen_length|\n",
      "+------+------------------+\n",
      "|100010|       66940.89735|\n",
      "|200002| 94008.87593999993|\n",
      "|   125|2089.1131000000005|\n",
      "+------+------------------+\n",
      "only showing top 3 rows\n",
      "\n"
     ]
    }
   ],
   "source": [
    "# Creating a feature: total length of song listening\n",
    "length = df_churn.select(\"userId\", \"length\").groupby(\"userId\").sum().withColumnRenamed(\"sum(length)\", \"listen_length\")\n",
    "\n",
    "length.show(3)"
   ]
  },
  {
   "cell_type": "code",
   "execution_count": 34,
   "metadata": {},
   "outputs": [
    {
     "name": "stdout",
     "output_type": "stream",
     "text": [
      "+------+---------------------+\n",
      "|userId|avg_songs_per_session|\n",
      "+------+---------------------+\n",
      "|100010|   39.285714285714285|\n",
      "|200002|                 64.5|\n",
      "|   125|                  8.0|\n",
      "+------+---------------------+\n",
      "only showing top 3 rows\n",
      "\n"
     ]
    }
   ],
   "source": [
    "# Creating a feature: songs per session\n",
    "songs_session = df_churn.where('page == \"NextSong\"').groupby([\"userId\", \"sessionId\"]) \\\n",
    "                .count().groupby(\"userId\").agg({\"count\": \"avg\"}) \\\n",
    "                .withColumnRenamed(\"avg(count)\", \"avg_songs_per_session\")\n",
    "\n",
    "songs_session.show(3)"
   ]
  },
  {
   "cell_type": "code",
   "execution_count": 35,
   "metadata": {},
   "outputs": [
    {
     "name": "stdout",
     "output_type": "stream",
     "text": [
      "+------+-----+\n",
      "|userId|churn|\n",
      "+------+-----+\n",
      "|    19|    0|\n",
      "|100005|    1|\n",
      "|200007|    0|\n",
      "+------+-----+\n",
      "only showing top 3 rows\n",
      "\n"
     ]
    }
   ],
   "source": [
    "# Creating churn label\n",
    "churn_labels = df_churn.select(\"userId\", df_churn.churn.cast(\"int\")).dropDuplicates()\n",
    "churn_labels.show(3)"
   ]
  },
  {
   "cell_type": "code",
   "execution_count": 36,
   "metadata": {},
   "outputs": [],
   "source": [
    "users = df_churn.select(\"userId\").dropDuplicates()\n",
    "\n",
    "for feature in [gender, artists, songs, states, days, levels, thumbs_down, thumbs_up, \n",
    "                friends, playlist, length, songs_session, churn_labels]:\n",
    "    users = users.join(feature, \"userId\")\n",
    "    \n",
    "users = users.drop(\"userId\").withColumnRenamed(\"churn\", \"label\")"
   ]
  },
  {
   "cell_type": "code",
   "execution_count": 37,
   "metadata": {},
   "outputs": [
    {
     "name": "stdout",
     "output_type": "stream",
     "text": [
      "+------+-------+-----+---+------------------+----+-----------+---------+-------+--------+------------------+---------------------+-----+\n",
      "|gender|artists|songs| CA|              days|paid|thumbs_down|thumbs_up|friends|playlist|     listen_length|avg_songs_per_session|label|\n",
      "+------+-------+-----+---+------------------+----+-----------+---------+-------+--------+------------------+---------------------+-----+\n",
      "|     1|    372|  411|  0|37.099016203703705|   1|          2|       25|      8|      10|106365.08873999993|                143.0|    0|\n",
      "|     1|    711|  848|  1| 63.27107638888889|   1|         11|       44|     18|      30|       229759.7929|                 91.8|    0|\n",
      "|     1|   1320| 1700|  0|110.77247685185186|   1|         10|       76|     36|      61|473900.08914000005|   157.83333333333334|    0|\n",
      "|     1|     83|   86|  0|124.55060185185185|   0|          1|        6|      3|       3|       19961.03902|                 85.0|    0|\n",
      "|     1|   1236| 1604|  0|150.45563657407408|   1|         16|      169|     31|      63| 447755.1231499991|    66.55555555555556|    0|\n",
      "|     1|   3545| 5947|  1|168.92145833333333|   1|         69|      388|    122|     240|1991154.9155800021|    77.68932038834951|    0|\n",
      "|     1|    253|  270|  0|  55.6436574074074|   0|          5|       17|      4|       7|       66940.89735|   39.285714285714285|    0|\n",
      "|     1|    826| 1005|  0| 78.96927083333334|   1|         11|       66|     23|      39| 259785.3331600001|   63.411764705882355|    0|\n",
      "|     1|    140|  144|  0|132.30824074074073|   0|          1|        4|      1|       3|37408.717459999985|   24.333333333333332|    0|\n",
      "|     1|   1099| 1441|  0| 75.46339120370371|   0|         14|       71|     31|      64| 406584.4518699999|    44.72222222222222|    0|\n",
      "|     1|    647|  751|  0| 68.92494212962963|   1|          4|       48|     21|      27|201775.17455999996|                101.5|    0|\n",
      "|     1|     61|   63|  0| 93.96927083333333|   0|          0|        1|      2|       4|16042.786170000003|                 21.0|    0|\n",
      "|     0|    111|  115|  0|15.909027777777778|   0|          1|       10|      0|       3|30793.221329999982|                28.75|    1|\n",
      "|     0|    862| 1077|  0| 75.99219907407407|   0|         36|       56|     10|      32| 289959.3589799997|                 33.4|    1|\n",
      "|     1|    624|  724|  1| 68.22856481481482|   0|          6|       37|     17|      30|      191396.79602|   128.66666666666666|    0|\n",
      "|     0|    234|  253|  1|  87.6291550925926|   0|         10|       10|      2|      13| 61024.95394999998|                 25.8|    1|\n",
      "|     0|   1706| 2303|  0| 64.87377314814815|   1|         27|      148|     49|      61| 672877.8565899997|    78.88235294117646|    0|\n",
      "|     1|     27|   27|  0| 9.127164351851851|   0|          2|        2|      4|       1|        5854.89105|                 26.0|    1|\n",
      "|     1|    289|  306|  0|157.05546296296296|   1|          4|       35|      8|       9| 77024.45929999997|                 52.0|    0|\n",
      "|     1|   1276| 1643|  0| 82.50391203703704|   1|         17|       98|     41|      61|469223.68954999995|   125.33333333333333|    0|\n",
      "+------+-------+-----+---+------------------+----+-----------+---------+-------+--------+------------------+---------------------+-----+\n",
      "only showing top 20 rows\n",
      "\n"
     ]
    }
   ],
   "source": [
    "users.show()"
   ]
  },
  {
   "cell_type": "code",
   "execution_count": 38,
   "metadata": {},
   "outputs": [],
   "source": [
    "users_csv = users.toPandas()\n",
    "users_csv.to_csv(\"features.csv\")"
   ]
  },
  {
   "cell_type": "markdown",
   "metadata": {},
   "source": [
    "# Modeling\n",
    "Spliting the full dataset into train and test sets. Testing out several of the machine learning methods. Evaluating the accuracy of the various models, tuning parameters as necessary. Determine your winning model based on test accuracy."
   ]
  },
  {
   "cell_type": "code",
   "execution_count": 39,
   "metadata": {},
   "outputs": [
    {
     "name": "stdout",
     "output_type": "stream",
     "text": [
      "+-----+-----+\n",
      "|label|count|\n",
      "+-----+-----+\n",
      "|    1|   52|\n",
      "|    0|  173|\n",
      "+-----+-----+\n",
      "\n"
     ]
    }
   ],
   "source": [
    "# Check what is the split between churn users and others\n",
    "users.groupby(\"label\").count().show()"
   ]
  },
  {
   "cell_type": "code",
   "execution_count": 40,
   "metadata": {},
   "outputs": [
    {
     "data": {
      "text/plain": [
       "[('gender', 'int'),\n",
       " ('artists', 'bigint'),\n",
       " ('songs', 'bigint'),\n",
       " ('CA', 'int'),\n",
       " ('days', 'double'),\n",
       " ('paid', 'int'),\n",
       " ('thumbs_down', 'bigint'),\n",
       " ('thumbs_up', 'bigint'),\n",
       " ('friends', 'bigint'),\n",
       " ('playlist', 'bigint'),\n",
       " ('listen_length', 'double'),\n",
       " ('avg_songs_per_session', 'double'),\n",
       " ('label', 'int')]"
      ]
     },
     "execution_count": 40,
     "metadata": {},
     "output_type": "execute_result"
    }
   ],
   "source": [
    "# Check what data types are in our table\n",
    "users.dtypes"
   ]
  },
  {
   "cell_type": "code",
   "execution_count": 41,
   "metadata": {},
   "outputs": [],
   "source": [
    "# convert data type of columns to float numbers\n",
    "for feature in users.columns:\n",
    "    users = users.withColumn(feature,users[feature].cast('float'))"
   ]
  },
  {
   "cell_type": "code",
   "execution_count": 42,
   "metadata": {},
   "outputs": [
    {
     "data": {
      "text/plain": [
       "[('gender', 'float'),\n",
       " ('artists', 'float'),\n",
       " ('songs', 'float'),\n",
       " ('CA', 'float'),\n",
       " ('days', 'float'),\n",
       " ('paid', 'float'),\n",
       " ('thumbs_down', 'float'),\n",
       " ('thumbs_up', 'float'),\n",
       " ('friends', 'float'),\n",
       " ('playlist', 'float'),\n",
       " ('listen_length', 'float'),\n",
       " ('avg_songs_per_session', 'float'),\n",
       " ('label', 'float')]"
      ]
     },
     "execution_count": 42,
     "metadata": {},
     "output_type": "execute_result"
    }
   ],
   "source": [
    "# Check what data types are in our table after converting\n",
    "users.dtypes"
   ]
  },
  {
   "cell_type": "markdown",
   "metadata": {},
   "source": [
    "Baseline"
   ]
  },
  {
   "cell_type": "code",
   "execution_count": 43,
   "metadata": {},
   "outputs": [],
   "source": [
    "cols = users.columns[0:-1]\n",
    "\n",
    "# vectorize features using assembler\n",
    "assembler = VectorAssembler(inputCols = cols, outputCol = \"Numfeatures\")\n",
    "users = assembler.transform(users)"
   ]
  },
  {
   "cell_type": "code",
   "execution_count": 44,
   "metadata": {},
   "outputs": [],
   "source": [
    "# scale the features to avoid large dominant scales\n",
    "scaler = StandardScaler(inputCol = \"Numfeatures\", outputCol = \"features\", withStd=True)\n",
    "scalerModel = scaler.fit(users)\n",
    "users = scalerModel.transform(users)"
   ]
  },
  {
   "cell_type": "code",
   "execution_count": 45,
   "metadata": {},
   "outputs": [],
   "source": [
    "users_baseline = users"
   ]
  },
  {
   "cell_type": "code",
   "execution_count": 46,
   "metadata": {},
   "outputs": [],
   "source": [
    "# split the dataset into training, test and validation sets\n",
    "train_baseline, rest_baseline = users_baseline.randomSplit([0.6, 0.4], seed = 1704)\n",
    "validation_baseline, test_baseline = rest_baseline.randomSplit([0.5, 0.5], seed = 1704)"
   ]
  },
  {
   "cell_type": "code",
   "execution_count": 47,
   "metadata": {},
   "outputs": [],
   "source": [
    "baseline_churn = test_baseline.withColumn('prediction', lit(1.0))"
   ]
  },
  {
   "cell_type": "code",
   "execution_count": 48,
   "metadata": {},
   "outputs": [
    {
     "name": "stdout",
     "output_type": "stream",
     "text": [
      "Test set metrics for labelling all users with churn:\n",
      "Accuracy:  0.1917808219178082\n",
      "F-1 Score:  0.06172256337584632\n"
     ]
    }
   ],
   "source": [
    "evaluator_baseline = MulticlassClassificationEvaluator(predictionCol = \"prediction\")\n",
    "\n",
    "accuracy_baseline = evaluator_baseline.evaluate(baseline_churn, {evaluator_baseline.metricName: \"accuracy\"})\n",
    "f1_score_baseline = evaluator_baseline.evaluate(baseline_churn, {evaluator_baseline.metricName: \"f1\"})\n",
    "\n",
    "print('Test set metrics for labelling all users with churn:')\n",
    "print('Accuracy: ', accuracy_baseline)\n",
    "print('F-1 Score: ', f1_score_baseline)"
   ]
  },
  {
   "cell_type": "code",
   "execution_count": 49,
   "metadata": {},
   "outputs": [],
   "source": [
    "baseline_non_churn = test_baseline.withColumn('prediction', lit(0.0))"
   ]
  },
  {
   "cell_type": "code",
   "execution_count": 50,
   "metadata": {},
   "outputs": [
    {
     "name": "stdout",
     "output_type": "stream",
     "text": [
      "Test set metrics for labelling all users with not churn:\n",
      "Accuracy:  0.8082191780821918\n",
      "F-1 Score:  0.7224989622249897\n"
     ]
    }
   ],
   "source": [
    "evaluator_baseline2 = MulticlassClassificationEvaluator(predictionCol = \"prediction\")\n",
    "\n",
    "accuracy_baseline2 = evaluator_baseline2.evaluate(baseline_non_churn, {evaluator_baseline2.metricName: \"accuracy\"})\n",
    "f1_score_baseline2 = evaluator_baseline2.evaluate(baseline_non_churn, {evaluator_baseline2.metricName: \"f1\"})\n",
    "\n",
    "print('Test set metrics for labelling all users with not churn:')\n",
    "print('Accuracy: ', accuracy_baseline2)\n",
    "print('F-1 Score: ', f1_score_baseline2)"
   ]
  },
  {
   "cell_type": "markdown",
   "metadata": {},
   "source": [
    "Machine Learning Models"
   ]
  },
  {
   "cell_type": "code",
   "execution_count": 51,
   "metadata": {},
   "outputs": [],
   "source": [
    "# split the dataset into training, test and validation sets\n",
    "train, rest = users.randomSplit([0.6, 0.4], seed = 1105)\n",
    "validation, test = rest.randomSplit([0.5, 0.5], seed = 1105)"
   ]
  },
  {
   "cell_type": "code",
   "execution_count": 52,
   "metadata": {},
   "outputs": [],
   "source": [
    "lr = LogisticRegression(featuresCol = 'features', labelCol = 'label', maxIter=10)\n",
    "gbt = GBTClassifier(featuresCol = 'features', labelCol = 'label', maxIter=10, seed = 1105)\n",
    "rf = RandomForestClassifier(featuresCol = 'features', labelCol = 'label', seed = 1105)\n",
    "svc = LinearSVC(featuresCol = 'features', labelCol = 'label')"
   ]
  },
  {
   "cell_type": "code",
   "execution_count": 53,
   "metadata": {},
   "outputs": [],
   "source": [
    "evaluator = MulticlassClassificationEvaluator(predictionCol = \"prediction\")"
   ]
  },
  {
   "cell_type": "code",
   "execution_count": 54,
   "metadata": {},
   "outputs": [
    {
     "name": "stdout",
     "output_type": "stream",
     "text": [
      "LogisticRegression - training...\n",
      "LogisticRegression  - predicting...\n",
      "LogisticRegression  - evaluating...\n",
      "F1-score:  0.6619385342789598\n",
      "GBTClassifier - training...\n",
      "GBTClassifier  - predicting...\n",
      "GBTClassifier  - evaluating...\n",
      "F1-score:  0.8196789660204293\n",
      "RandomForestClassifier - training...\n",
      "RandomForestClassifier  - predicting...\n",
      "RandomForestClassifier  - evaluating...\n",
      "F1-score:  0.8518518518518519\n",
      "LinearSVC - training...\n",
      "LinearSVC  - predicting...\n",
      "LinearSVC  - evaluating...\n",
      "F1-score:  0.6805555555555557\n"
     ]
    }
   ],
   "source": [
    "# initiate empty set to gather model metrics\n",
    "results = {}\n",
    "\n",
    "for clf in [lr, gbt, rf, svc]:\n",
    "    \n",
    "    # get the classifier name\n",
    "    clf_name = clf.__class__.__name__\n",
    "    \n",
    "    model_metrics = {}\n",
    "    # training the model\n",
    "    print(clf_name, '- training...')\n",
    "    start = time() \n",
    "    model = clf.fit(train)\n",
    "    end = time() \n",
    "    model_metrics['training_time'] = round(end - start, 2)\n",
    "    \n",
    "    # predicting\n",
    "    print(clf_name, ' - predicting...')\n",
    "    pred = model.transform(validation)\n",
    "    \n",
    "    # evaluating\n",
    "    print(clf_name, ' - evaluating...')    \n",
    "    model_metrics['f1_score'] = evaluator.evaluate(pred.select('label','prediction'), {evaluator.metricName: 'f1'})\n",
    "    \n",
    "    print('F1-score: ', model_metrics['f1_score'])\n",
    "    results[clf_name] = model_metrics"
   ]
  },
  {
   "cell_type": "code",
   "execution_count": 55,
   "metadata": {},
   "outputs": [
    {
     "data": {
      "text/html": [
       "<div>\n",
       "<style scoped>\n",
       "    .dataframe tbody tr th:only-of-type {\n",
       "        vertical-align: middle;\n",
       "    }\n",
       "\n",
       "    .dataframe tbody tr th {\n",
       "        vertical-align: top;\n",
       "    }\n",
       "\n",
       "    .dataframe thead th {\n",
       "        text-align: right;\n",
       "    }\n",
       "</style>\n",
       "<table border=\"1\" class=\"dataframe\">\n",
       "  <thead>\n",
       "    <tr style=\"text-align: right;\">\n",
       "      <th></th>\n",
       "      <th>LogisticRegression</th>\n",
       "      <th>GBTClassifier</th>\n",
       "      <th>RandomForestClassifier</th>\n",
       "      <th>LinearSVC</th>\n",
       "    </tr>\n",
       "  </thead>\n",
       "  <tbody>\n",
       "    <tr>\n",
       "      <th>training_time</th>\n",
       "      <td>104.460000</td>\n",
       "      <td>114.030000</td>\n",
       "      <td>83.650000</td>\n",
       "      <td>335.320000</td>\n",
       "    </tr>\n",
       "    <tr>\n",
       "      <th>f1_score</th>\n",
       "      <td>0.661939</td>\n",
       "      <td>0.819679</td>\n",
       "      <td>0.851852</td>\n",
       "      <td>0.680556</td>\n",
       "    </tr>\n",
       "  </tbody>\n",
       "</table>\n",
       "</div>"
      ],
      "text/plain": [
       "               LogisticRegression  GBTClassifier  RandomForestClassifier  \\\n",
       "training_time          104.460000     114.030000               83.650000   \n",
       "f1_score                 0.661939       0.819679                0.851852   \n",
       "\n",
       "                LinearSVC  \n",
       "training_time  335.320000  \n",
       "f1_score         0.680556  "
      ]
     },
     "execution_count": 55,
     "metadata": {},
     "output_type": "execute_result"
    }
   ],
   "source": [
    "results_df = pd.DataFrame(results)\n",
    "results_df.to_csv(\"validation_results\")\n",
    "results_df"
   ]
  },
  {
   "cell_type": "markdown",
   "metadata": {},
   "source": [
    "Model Tuning"
   ]
  },
  {
   "cell_type": "code",
   "execution_count": 56,
   "metadata": {},
   "outputs": [],
   "source": [
    "# Define paramter grid for model tuning\n",
    "paramGrid = ParamGridBuilder() \\\n",
    "    .addGrid(rf.numTrees, [50, 100]) \\\n",
    "    .addGrid(rf.maxBins, [30, 60, 90]) \\\n",
    "    .addGrid(rf.maxDepth, [5, 10, 15]) \\\n",
    "    .build()\n",
    "\n",
    "# Initiate model cross validation\n",
    "crossval_rf = CrossValidator(estimator = rf,\n",
    "                          estimatorParamMaps = paramGrid,\n",
    "                          evaluator = MulticlassClassificationEvaluator(metricName = \"f1\"),\n",
    "                          numFolds = 3)"
   ]
  },
  {
   "cell_type": "code",
   "execution_count": 57,
   "metadata": {},
   "outputs": [
    {
     "data": {
      "text/plain": [
       "[0.748019662325018,\n",
       " 0.7133359207908831,\n",
       " 0.7133359207908831,\n",
       " 0.7192318896480463,\n",
       " 0.7102863257902018,\n",
       " 0.7102863257902018,\n",
       " 0.7452362319436089,\n",
       " 0.7075401417666332,\n",
       " 0.7075401417666332,\n",
       " 0.7566716222611066,\n",
       " 0.7504517257895376,\n",
       " 0.7504517257895376,\n",
       " 0.7236665876503614,\n",
       " 0.7236665876503614,\n",
       " 0.7236665876503614,\n",
       " 0.7338694564996384,\n",
       " 0.7276878551791482,\n",
       " 0.7276878551791482]"
      ]
     },
     "execution_count": 57,
     "metadata": {},
     "output_type": "execute_result"
    }
   ],
   "source": [
    "cvModel_rf = crossval_rf.fit(train)   \n",
    "cvModel_rf.avgMetrics"
   ]
  },
  {
   "cell_type": "code",
   "execution_count": 58,
   "metadata": {},
   "outputs": [
    {
     "data": {
      "text/plain": [
       "{Param(parent='RandomForestClassifier_d430f39433ff', name='numTrees', doc='Number of trees to train (>= 1).'): 100,\n",
       " Param(parent='RandomForestClassifier_d430f39433ff', name='maxBins', doc='Max number of bins for discretizing continuous features.  Must be >=2 and >= number of categories for any categorical feature.'): 30,\n",
       " Param(parent='RandomForestClassifier_d430f39433ff', name='maxDepth', doc='Maximum depth of the tree. (>= 0) E.g., depth 0 means 1 leaf node; depth 1 means 1 internal node + 2 leaf nodes.'): 5}"
      ]
     },
     "execution_count": 58,
     "metadata": {},
     "output_type": "execute_result"
    }
   ],
   "source": [
    "cvModel_rf.getEstimatorParamMaps()[np.argmax(cvModel_rf.avgMetrics)]"
   ]
  },
  {
   "cell_type": "code",
   "execution_count": 59,
   "metadata": {},
   "outputs": [
    {
     "name": "stdout",
     "output_type": "stream",
     "text": [
      "Accuracy: 0.8545454545454545\n",
      "F-1 Score:0.8470019342359767\n"
     ]
    }
   ],
   "source": [
    "pred_rf = cvModel_rf.transform(test)\n",
    "\n",
    "print('Accuracy: {}'.format(evaluator.evaluate(pred_rf.select('label','prediction'), {evaluator.metricName: \"accuracy\"})))\n",
    "print('F-1 Score:{}'.format(evaluator.evaluate(pred_rf.select('label','prediction'), {evaluator.metricName: \"f1\"})))"
   ]
  }
 ],
 "metadata": {
  "kernelspec": {
   "display_name": "Python 3",
   "language": "python",
   "name": "python3"
  },
  "language_info": {
   "codemirror_mode": {
    "name": "ipython",
    "version": 3
   },
   "file_extension": ".py",
   "mimetype": "text/x-python",
   "name": "python",
   "nbconvert_exporter": "python",
   "pygments_lexer": "ipython3",
   "version": "3.7.6"
  }
 },
 "nbformat": 4,
 "nbformat_minor": 2
}
